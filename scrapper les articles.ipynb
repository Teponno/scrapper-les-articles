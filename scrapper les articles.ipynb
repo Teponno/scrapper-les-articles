{
 "cells": [
  {
   "cell_type": "code",
   "execution_count": 84,
   "id": "55ec669a",
   "metadata": {},
   "outputs": [
    {
     "name": "stdout",
     "output_type": "stream",
     "text": [
      "Collecting ipywidgets\n",
      "  Downloading ipywidgets-7.7.0-py2.py3-none-any.whl (123 kB)\n",
      "Requirement already satisfied: traitlets>=4.3.1 in c:\\users\\senah\\.conda\\envs\\rstudio-\\lib\\site-packages (from ipywidgets) (5.1.1)\n",
      "Requirement already satisfied: ipython>=4.0.0 in c:\\users\\senah\\.conda\\envs\\rstudio-\\lib\\site-packages (from ipywidgets) (7.31.1)\n",
      "Requirement already satisfied: nbformat>=4.2.0 in c:\\users\\senah\\.conda\\envs\\rstudio-\\lib\\site-packages (from ipywidgets) (5.1.3)\n",
      "Collecting jupyterlab-widgets>=1.0.0\n",
      "  Downloading jupyterlab_widgets-1.1.0-py3-none-any.whl (245 kB)\n",
      "Requirement already satisfied: ipython-genutils~=0.2.0 in c:\\users\\senah\\.conda\\envs\\rstudio-\\lib\\site-packages (from ipywidgets) (0.2.0)\n",
      "Collecting widgetsnbextension~=3.6.0\n",
      "  Downloading widgetsnbextension-3.6.0-py2.py3-none-any.whl (1.6 MB)\n",
      "Requirement already satisfied: ipykernel>=4.5.1 in c:\\users\\senah\\.conda\\envs\\rstudio-\\lib\\site-packages (from ipywidgets) (6.9.1)\n",
      "Requirement already satisfied: debugpy<2.0,>=1.0.0 in c:\\users\\senah\\.conda\\envs\\rstudio-\\lib\\site-packages (from ipykernel>=4.5.1->ipywidgets) (1.5.1)\n",
      "Requirement already satisfied: tornado<7.0,>=4.2 in c:\\users\\senah\\.conda\\envs\\rstudio-\\lib\\site-packages (from ipykernel>=4.5.1->ipywidgets) (6.1)\n",
      "Requirement already satisfied: nest-asyncio in c:\\users\\senah\\.conda\\envs\\rstudio-\\lib\\site-packages (from ipykernel>=4.5.1->ipywidgets) (1.5.1)\n",
      "Requirement already satisfied: matplotlib-inline<0.2.0,>=0.1.0 in c:\\users\\senah\\.conda\\envs\\rstudio-\\lib\\site-packages (from ipykernel>=4.5.1->ipywidgets) (0.1.2)\n",
      "Requirement already satisfied: jupyter-client<8.0 in c:\\users\\senah\\.conda\\envs\\rstudio-\\lib\\site-packages (from ipykernel>=4.5.1->ipywidgets) (6.1.12)\n",
      "Requirement already satisfied: backcall in c:\\users\\senah\\.conda\\envs\\rstudio-\\lib\\site-packages (from ipython>=4.0.0->ipywidgets) (0.2.0)\n",
      "Requirement already satisfied: pickleshare in c:\\users\\senah\\.conda\\envs\\rstudio-\\lib\\site-packages (from ipython>=4.0.0->ipywidgets) (0.7.5)\n",
      "Requirement already satisfied: setuptools>=18.5 in c:\\users\\senah\\.conda\\envs\\rstudio-\\lib\\site-packages (from ipython>=4.0.0->ipywidgets) (58.0.4)\n",
      "Requirement already satisfied: pygments in c:\\users\\senah\\.conda\\envs\\rstudio-\\lib\\site-packages (from ipython>=4.0.0->ipywidgets) (2.11.2)\n",
      "Requirement already satisfied: jedi>=0.16 in c:\\users\\senah\\.conda\\envs\\rstudio-\\lib\\site-packages (from ipython>=4.0.0->ipywidgets) (0.18.1)\n",
      "Requirement already satisfied: colorama in c:\\users\\senah\\.conda\\envs\\rstudio-\\lib\\site-packages (from ipython>=4.0.0->ipywidgets) (0.4.4)\n",
      "Requirement already satisfied: decorator in c:\\users\\senah\\.conda\\envs\\rstudio-\\lib\\site-packages (from ipython>=4.0.0->ipywidgets) (5.1.1)\n",
      "Requirement already satisfied: prompt-toolkit!=3.0.0,!=3.0.1,<3.1.0,>=2.0.0 in c:\\users\\senah\\.conda\\envs\\rstudio-\\lib\\site-packages (from ipython>=4.0.0->ipywidgets) (3.0.20)\n",
      "Requirement already satisfied: parso<0.9.0,>=0.8.0 in c:\\users\\senah\\.conda\\envs\\rstudio-\\lib\\site-packages (from jedi>=0.16->ipython>=4.0.0->ipywidgets) (0.8.3)\n",
      "Requirement already satisfied: python-dateutil>=2.1 in c:\\users\\senah\\.conda\\envs\\rstudio-\\lib\\site-packages (from jupyter-client<8.0->ipykernel>=4.5.1->ipywidgets) (2.8.2)\n",
      "Requirement already satisfied: pyzmq>=13 in c:\\users\\senah\\.conda\\envs\\rstudio-\\lib\\site-packages (from jupyter-client<8.0->ipykernel>=4.5.1->ipywidgets) (22.3.0)\n",
      "Requirement already satisfied: jupyter-core>=4.6.0 in c:\\users\\senah\\.conda\\envs\\rstudio-\\lib\\site-packages (from jupyter-client<8.0->ipykernel>=4.5.1->ipywidgets) (4.9.2)\n",
      "Requirement already satisfied: pywin32>=1.0 in c:\\users\\senah\\.conda\\envs\\rstudio-\\lib\\site-packages (from jupyter-core>=4.6.0->jupyter-client<8.0->ipykernel>=4.5.1->ipywidgets) (302)\n",
      "Requirement already satisfied: jsonschema!=2.5.0,>=2.4 in c:\\users\\senah\\.conda\\envs\\rstudio-\\lib\\site-packages (from nbformat>=4.2.0->ipywidgets) (3.2.0)\n",
      "Requirement already satisfied: pyrsistent>=0.14.0 in c:\\users\\senah\\.conda\\envs\\rstudio-\\lib\\site-packages (from jsonschema!=2.5.0,>=2.4->nbformat>=4.2.0->ipywidgets) (0.18.0)\n",
      "Requirement already satisfied: six>=1.11.0 in c:\\users\\senah\\.conda\\envs\\rstudio-\\lib\\site-packages (from jsonschema!=2.5.0,>=2.4->nbformat>=4.2.0->ipywidgets) (1.16.0)\n",
      "Requirement already satisfied: importlib-metadata in c:\\users\\senah\\.conda\\envs\\rstudio-\\lib\\site-packages (from jsonschema!=2.5.0,>=2.4->nbformat>=4.2.0->ipywidgets) (4.11.3)\n",
      "Requirement already satisfied: attrs>=17.4.0 in c:\\users\\senah\\.conda\\envs\\rstudio-\\lib\\site-packages (from jsonschema!=2.5.0,>=2.4->nbformat>=4.2.0->ipywidgets) (21.4.0)\n",
      "Requirement already satisfied: wcwidth in c:\\users\\senah\\.conda\\envs\\rstudio-\\lib\\site-packages (from prompt-toolkit!=3.0.0,!=3.0.1,<3.1.0,>=2.0.0->ipython>=4.0.0->ipywidgets) (0.2.5)\n",
      "Requirement already satisfied: notebook>=4.4.1 in c:\\users\\senah\\.conda\\envs\\rstudio-\\lib\\site-packages (from widgetsnbextension~=3.6.0->ipywidgets) (6.4.8)\n",
      "Requirement already satisfied: prometheus-client in c:\\users\\senah\\.conda\\envs\\rstudio-\\lib\\site-packages (from notebook>=4.4.1->widgetsnbextension~=3.6.0->ipywidgets) (0.13.1)\n",
      "Requirement already satisfied: jinja2 in c:\\users\\senah\\.conda\\envs\\rstudio-\\lib\\site-packages (from notebook>=4.4.1->widgetsnbextension~=3.6.0->ipywidgets) (3.0.3)\n",
      "Requirement already satisfied: nbconvert in c:\\users\\senah\\.conda\\envs\\rstudio-\\lib\\site-packages (from notebook>=4.4.1->widgetsnbextension~=3.6.0->ipywidgets) (6.1.0)\n",
      "Requirement already satisfied: Send2Trash>=1.8.0 in c:\\users\\senah\\.conda\\envs\\rstudio-\\lib\\site-packages (from notebook>=4.4.1->widgetsnbextension~=3.6.0->ipywidgets) (1.8.0)\n",
      "Requirement already satisfied: argon2-cffi in c:\\users\\senah\\.conda\\envs\\rstudio-\\lib\\site-packages (from notebook>=4.4.1->widgetsnbextension~=3.6.0->ipywidgets) (21.3.0)\n",
      "Requirement already satisfied: terminado>=0.8.3 in c:\\users\\senah\\.conda\\envs\\rstudio-\\lib\\site-packages (from notebook>=4.4.1->widgetsnbextension~=3.6.0->ipywidgets) (0.13.1)\n",
      "Requirement already satisfied: pywinpty>=1.1.0 in c:\\users\\senah\\.conda\\envs\\rstudio-\\lib\\site-packages (from terminado>=0.8.3->notebook>=4.4.1->widgetsnbextension~=3.6.0->ipywidgets) (2.0.2)\n",
      "Requirement already satisfied: typing-extensions in c:\\users\\senah\\.conda\\envs\\rstudio-\\lib\\site-packages (from argon2-cffi->notebook>=4.4.1->widgetsnbextension~=3.6.0->ipywidgets) (4.1.1)\n",
      "Requirement already satisfied: argon2-cffi-bindings in c:\\users\\senah\\.conda\\envs\\rstudio-\\lib\\site-packages (from argon2-cffi->notebook>=4.4.1->widgetsnbextension~=3.6.0->ipywidgets) (21.2.0)\n",
      "Requirement already satisfied: cffi>=1.0.1 in c:\\users\\senah\\.conda\\envs\\rstudio-\\lib\\site-packages (from argon2-cffi-bindings->argon2-cffi->notebook>=4.4.1->widgetsnbextension~=3.6.0->ipywidgets) (1.15.0)\n",
      "Requirement already satisfied: pycparser in c:\\users\\senah\\.conda\\envs\\rstudio-\\lib\\site-packages (from cffi>=1.0.1->argon2-cffi-bindings->argon2-cffi->notebook>=4.4.1->widgetsnbextension~=3.6.0->ipywidgets) (2.21)\n",
      "Requirement already satisfied: zipp>=0.5 in c:\\users\\senah\\.conda\\envs\\rstudio-\\lib\\site-packages (from importlib-metadata->jsonschema!=2.5.0,>=2.4->nbformat>=4.2.0->ipywidgets) (3.7.0)\n",
      "Requirement already satisfied: MarkupSafe>=2.0 in c:\\users\\senah\\.conda\\envs\\rstudio-\\lib\\site-packages (from jinja2->notebook>=4.4.1->widgetsnbextension~=3.6.0->ipywidgets) (2.0.1)\n",
      "Requirement already satisfied: nbclient<0.6.0,>=0.5.0 in c:\\users\\senah\\.conda\\envs\\rstudio-\\lib\\site-packages (from nbconvert->notebook>=4.4.1->widgetsnbextension~=3.6.0->ipywidgets) (0.5.11)\n",
      "Requirement already satisfied: entrypoints>=0.2.2 in c:\\users\\senah\\.conda\\envs\\rstudio-\\lib\\site-packages (from nbconvert->notebook>=4.4.1->widgetsnbextension~=3.6.0->ipywidgets) (0.3)\n",
      "Requirement already satisfied: bleach in c:\\users\\senah\\.conda\\envs\\rstudio-\\lib\\site-packages (from nbconvert->notebook>=4.4.1->widgetsnbextension~=3.6.0->ipywidgets) (4.1.0)\n",
      "Requirement already satisfied: defusedxml in c:\\users\\senah\\.conda\\envs\\rstudio-\\lib\\site-packages (from nbconvert->notebook>=4.4.1->widgetsnbextension~=3.6.0->ipywidgets) (0.7.1)\n",
      "Requirement already satisfied: mistune<2,>=0.8.1 in c:\\users\\senah\\.conda\\envs\\rstudio-\\lib\\site-packages (from nbconvert->notebook>=4.4.1->widgetsnbextension~=3.6.0->ipywidgets) (0.8.4)\n",
      "Requirement already satisfied: jupyterlab-pygments in c:\\users\\senah\\.conda\\envs\\rstudio-\\lib\\site-packages (from nbconvert->notebook>=4.4.1->widgetsnbextension~=3.6.0->ipywidgets) (0.1.2)\n",
      "Requirement already satisfied: pandocfilters>=1.4.1 in c:\\users\\senah\\.conda\\envs\\rstudio-\\lib\\site-packages (from nbconvert->notebook>=4.4.1->widgetsnbextension~=3.6.0->ipywidgets) (1.5.0)\n",
      "Requirement already satisfied: testpath in c:\\users\\senah\\.conda\\envs\\rstudio-\\lib\\site-packages (from nbconvert->notebook>=4.4.1->widgetsnbextension~=3.6.0->ipywidgets) (0.5.0)\n",
      "Requirement already satisfied: webencodings in c:\\users\\senah\\.conda\\envs\\rstudio-\\lib\\site-packages (from bleach->nbconvert->notebook>=4.4.1->widgetsnbextension~=3.6.0->ipywidgets) (0.5.1)\n",
      "Requirement already satisfied: packaging in c:\\users\\senah\\.conda\\envs\\rstudio-\\lib\\site-packages (from bleach->nbconvert->notebook>=4.4.1->widgetsnbextension~=3.6.0->ipywidgets) (21.3)\n",
      "Requirement already satisfied: pyparsing!=3.0.5,>=2.0.2 in c:\\users\\senah\\.conda\\envs\\rstudio-\\lib\\site-packages (from packaging->bleach->nbconvert->notebook>=4.4.1->widgetsnbextension~=3.6.0->ipywidgets) (3.0.4)\n",
      "Installing collected packages: widgetsnbextension, jupyterlab-widgets, ipywidgets\n",
      "Successfully installed ipywidgets-7.7.0 jupyterlab-widgets-1.1.0 widgetsnbextension-3.6.0\n",
      "Requirement already satisfied: newspaper3k in c:\\users\\senah\\.conda\\envs\\rstudio-\\lib\\site-packages (0.2.8)\n",
      "Requirement already satisfied: feedfinder2>=0.0.4 in c:\\users\\senah\\.conda\\envs\\rstudio-\\lib\\site-packages (from newspaper3k) (0.0.4)\n",
      "Requirement already satisfied: Pillow>=3.3.0 in c:\\users\\senah\\.conda\\envs\\rstudio-\\lib\\site-packages (from newspaper3k) (9.0.1)\n",
      "Requirement already satisfied: python-dateutil>=2.5.3 in c:\\users\\senah\\.conda\\envs\\rstudio-\\lib\\site-packages (from newspaper3k) (2.8.2)\n",
      "Requirement already satisfied: requests>=2.10.0 in c:\\users\\senah\\.conda\\envs\\rstudio-\\lib\\site-packages (from newspaper3k) (2.27.1)\n",
      "Requirement already satisfied: lxml>=3.6.0 in c:\\users\\senah\\.conda\\envs\\rstudio-\\lib\\site-packages (from newspaper3k) (4.9.0)\n",
      "Requirement already satisfied: feedparser>=5.2.1 in c:\\users\\senah\\.conda\\envs\\rstudio-\\lib\\site-packages (from newspaper3k) (6.0.10)\n",
      "Requirement already satisfied: jieba3k>=0.35.1 in c:\\users\\senah\\.conda\\envs\\rstudio-\\lib\\site-packages (from newspaper3k) (0.35.1)\n",
      "Requirement already satisfied: PyYAML>=3.11 in c:\\users\\senah\\.conda\\envs\\rstudio-\\lib\\site-packages (from newspaper3k) (6.0)\n",
      "Requirement already satisfied: cssselect>=0.9.2 in c:\\users\\senah\\.conda\\envs\\rstudio-\\lib\\site-packages (from newspaper3k) (1.1.0)\n",
      "Requirement already satisfied: tinysegmenter==0.3 in c:\\users\\senah\\.conda\\envs\\rstudio-\\lib\\site-packages (from newspaper3k) (0.3)\n",
      "Requirement already satisfied: nltk>=3.2.1 in c:\\users\\senah\\.conda\\envs\\rstudio-\\lib\\site-packages (from newspaper3k) (3.7)\n",
      "Requirement already satisfied: beautifulsoup4>=4.4.1 in c:\\users\\senah\\.conda\\envs\\rstudio-\\lib\\site-packages (from newspaper3k) (4.10.0)\n",
      "Requirement already satisfied: tldextract>=2.0.1 in c:\\users\\senah\\.conda\\envs\\rstudio-\\lib\\site-packages (from newspaper3k) (3.3.0)\n",
      "Requirement already satisfied: soupsieve>1.2 in c:\\users\\senah\\.conda\\envs\\rstudio-\\lib\\site-packages (from beautifulsoup4>=4.4.1->newspaper3k) (2.3.1)\n",
      "Requirement already satisfied: six in c:\\users\\senah\\.conda\\envs\\rstudio-\\lib\\site-packages (from feedfinder2>=0.0.4->newspaper3k) (1.16.0)\n",
      "Requirement already satisfied: sgmllib3k in c:\\users\\senah\\.conda\\envs\\rstudio-\\lib\\site-packages (from feedparser>=5.2.1->newspaper3k) (1.0.0)\n",
      "Requirement already satisfied: joblib in c:\\users\\senah\\.conda\\envs\\rstudio-\\lib\\site-packages (from nltk>=3.2.1->newspaper3k) (1.1.0)\n",
      "Requirement already satisfied: tqdm in c:\\users\\senah\\.conda\\envs\\rstudio-\\lib\\site-packages (from nltk>=3.2.1->newspaper3k) (4.64.0)\n",
      "Requirement already satisfied: click in c:\\users\\senah\\.conda\\envs\\rstudio-\\lib\\site-packages (from nltk>=3.2.1->newspaper3k) (8.1.3)\n",
      "Requirement already satisfied: regex>=2021.8.3 in c:\\users\\senah\\.conda\\envs\\rstudio-\\lib\\site-packages (from nltk>=3.2.1->newspaper3k) (2022.6.2)\n",
      "Requirement already satisfied: urllib3<1.27,>=1.21.1 in c:\\users\\senah\\.conda\\envs\\rstudio-\\lib\\site-packages (from requests>=2.10.0->newspaper3k) (1.26.8)\n",
      "Requirement already satisfied: idna<4,>=2.5 in c:\\users\\senah\\.conda\\envs\\rstudio-\\lib\\site-packages (from requests>=2.10.0->newspaper3k) (3.3)\n",
      "Requirement already satisfied: charset-normalizer~=2.0.0 in c:\\users\\senah\\.conda\\envs\\rstudio-\\lib\\site-packages (from requests>=2.10.0->newspaper3k) (2.0.4)\n",
      "Requirement already satisfied: certifi>=2017.4.17 in c:\\users\\senah\\.conda\\envs\\rstudio-\\lib\\site-packages (from requests>=2.10.0->newspaper3k) (2021.10.8)\n",
      "Requirement already satisfied: filelock>=3.0.8 in c:\\users\\senah\\.conda\\envs\\rstudio-\\lib\\site-packages (from tldextract>=2.0.1->newspaper3k) (3.7.1)\n",
      "Requirement already satisfied: requests-file>=1.4 in c:\\users\\senah\\.conda\\envs\\rstudio-\\lib\\site-packages (from tldextract>=2.0.1->newspaper3k) (1.5.1)\n",
      "Requirement already satisfied: importlib-metadata in c:\\users\\senah\\.conda\\envs\\rstudio-\\lib\\site-packages (from click->nltk>=3.2.1->newspaper3k) (4.11.3)\n",
      "Requirement already satisfied: colorama in c:\\users\\senah\\.conda\\envs\\rstudio-\\lib\\site-packages (from click->nltk>=3.2.1->newspaper3k) (0.4.4)\n",
      "Requirement already satisfied: zipp>=0.5 in c:\\users\\senah\\.conda\\envs\\rstudio-\\lib\\site-packages (from importlib-metadata->click->nltk>=3.2.1->newspaper3k) (3.7.0)\n",
      "Requirement already satisfied: typing-extensions>=3.6.4 in c:\\users\\senah\\.conda\\envs\\rstudio-\\lib\\site-packages (from importlib-metadata->click->nltk>=3.2.1->newspaper3k) (4.1.1)\n",
      "Requirement already satisfied: nlp in c:\\users\\senah\\.conda\\envs\\rstudio-\\lib\\site-packages (0.4.0)\n",
      "Requirement already satisfied: tqdm>=4.27 in c:\\users\\senah\\.conda\\envs\\rstudio-\\lib\\site-packages (from nlp) (4.64.0)\n",
      "Requirement already satisfied: filelock in c:\\users\\senah\\.conda\\envs\\rstudio-\\lib\\site-packages (from nlp) (3.7.1)\n",
      "Requirement already satisfied: xxhash in c:\\users\\senah\\.conda\\envs\\rstudio-\\lib\\site-packages (from nlp) (3.0.0)\n",
      "Requirement already satisfied: requests>=2.19.0 in c:\\users\\senah\\.conda\\envs\\rstudio-\\lib\\site-packages (from nlp) (2.27.1)\n",
      "Requirement already satisfied: pandas in c:\\users\\senah\\.conda\\envs\\rstudio-\\lib\\site-packages (from nlp) (1.3.5)\n",
      "Requirement already satisfied: pyarrow>=0.16.0 in c:\\users\\senah\\.conda\\envs\\rstudio-\\lib\\site-packages (from nlp) (8.0.0)\n",
      "Requirement already satisfied: numpy in c:\\users\\senah\\.conda\\envs\\rstudio-\\lib\\site-packages (from nlp) (1.21.5)\n",
      "Requirement already satisfied: dill in c:\\users\\senah\\.conda\\envs\\rstudio-\\lib\\site-packages (from nlp) (0.3.4)\n",
      "Requirement already satisfied: certifi>=2017.4.17 in c:\\users\\senah\\.conda\\envs\\rstudio-\\lib\\site-packages (from requests>=2.19.0->nlp) (2021.10.8)\n",
      "Requirement already satisfied: idna<4,>=2.5 in c:\\users\\senah\\.conda\\envs\\rstudio-\\lib\\site-packages (from requests>=2.19.0->nlp) (3.3)\n",
      "Requirement already satisfied: charset-normalizer~=2.0.0 in c:\\users\\senah\\.conda\\envs\\rstudio-\\lib\\site-packages (from requests>=2.19.0->nlp) (2.0.4)\n",
      "Requirement already satisfied: urllib3<1.27,>=1.21.1 in c:\\users\\senah\\.conda\\envs\\rstudio-\\lib\\site-packages (from requests>=2.19.0->nlp) (1.26.8)\n",
      "Requirement already satisfied: colorama in c:\\users\\senah\\.conda\\envs\\rstudio-\\lib\\site-packages (from tqdm>=4.27->nlp) (0.4.4)\n",
      "Requirement already satisfied: python-dateutil>=2.7.3 in c:\\users\\senah\\.conda\\envs\\rstudio-\\lib\\site-packages (from pandas->nlp) (2.8.2)\n",
      "Requirement already satisfied: pytz>=2017.3 in c:\\users\\senah\\.conda\\envs\\rstudio-\\lib\\site-packages (from pandas->nlp) (2021.3)\n",
      "Requirement already satisfied: six>=1.5 in c:\\users\\senah\\.conda\\envs\\rstudio-\\lib\\site-packages (from python-dateutil>=2.7.3->pandas->nlp) (1.16.0)\n"
     ]
    }
   ],
   "source": [
    "!pip install ipywidgets\n",
    "!pip install newspaper3k\n",
    "!pip install nlp"
   ]
  },
  {
   "cell_type": "code",
   "execution_count": 85,
   "id": "304532da",
   "metadata": {},
   "outputs": [],
   "source": [
    "url=\"https://www.lindependant.fr/2022/06/04/guerre-en-ukraine-kiev-recadre-emmanuel-macron-qui-appelle-a-ne-pas-humilier-la-russie-10338561.php\""
   ]
  },
  {
   "cell_type": "code",
   "execution_count": 86,
   "id": "ec624543",
   "metadata": {},
   "outputs": [],
   "source": [
    "from newspaper import Article\n",
    "import nlp"
   ]
  },
  {
   "cell_type": "code",
   "execution_count": 87,
   "id": "c0ec8bd6",
   "metadata": {},
   "outputs": [],
   "source": [
    "article= Article(url, language=\"fr\")"
   ]
  },
  {
   "cell_type": "code",
   "execution_count": 88,
   "id": "01c60708",
   "metadata": {},
   "outputs": [],
   "source": [
    "article.download()"
   ]
  },
  {
   "cell_type": "code",
   "execution_count": 89,
   "id": "4c9b7b7d",
   "metadata": {},
   "outputs": [],
   "source": [
    "article.parse()"
   ]
  },
  {
   "cell_type": "code",
   "execution_count": 90,
   "id": "8da103f1",
   "metadata": {},
   "outputs": [
    {
     "ename": "LookupError",
     "evalue": "\n**********************************************************************\n  Resource \u001b[93mpunkt\u001b[0m not found.\n  Please use the NLTK Downloader to obtain the resource:\n\n  \u001b[31m>>> import nltk\n  >>> nltk.download('punkt')\n  \u001b[0m\n  For more information see: https://www.nltk.org/data.html\n\n  Attempted to load \u001b[93mtokenizers/punkt/english.pickle\u001b[0m\n\n  Searched in:\n    - 'C:\\\\Users\\\\senah/nltk_data'\n    - 'C:\\\\Users\\\\senah\\\\.conda\\\\envs\\\\rstudio-\\\\nltk_data'\n    - 'C:\\\\Users\\\\senah\\\\.conda\\\\envs\\\\rstudio-\\\\share\\\\nltk_data'\n    - 'C:\\\\Users\\\\senah\\\\.conda\\\\envs\\\\rstudio-\\\\lib\\\\nltk_data'\n    - 'C:\\\\Users\\\\senah\\\\AppData\\\\Roaming\\\\nltk_data'\n    - 'C:\\\\nltk_data'\n    - 'D:\\\\nltk_data'\n    - 'E:\\\\nltk_data'\n    - ''\n**********************************************************************\n",
     "output_type": "error",
     "traceback": [
      "\u001b[1;31m---------------------------------------------------------------------------\u001b[0m",
      "\u001b[1;31mLookupError\u001b[0m                               Traceback (most recent call last)",
      "\u001b[1;32m~\\AppData\\Local\\Temp\\ipykernel_13032\\1396380115.py\u001b[0m in \u001b[0;36m<module>\u001b[1;34m\u001b[0m\n\u001b[1;32m----> 1\u001b[1;33m \u001b[0marticle\u001b[0m\u001b[1;33m.\u001b[0m\u001b[0mnlp\u001b[0m\u001b[1;33m(\u001b[0m\u001b[1;33m)\u001b[0m\u001b[1;33m\u001b[0m\u001b[1;33m\u001b[0m\u001b[0m\n\u001b[0m",
      "\u001b[1;32m~\\.conda\\envs\\rstudio-\\lib\\site-packages\\newspaper\\article.py\u001b[0m in \u001b[0;36mnlp\u001b[1;34m(self)\u001b[0m\n\u001b[0;32m    359\u001b[0m         \u001b[0mmax_sents\u001b[0m \u001b[1;33m=\u001b[0m \u001b[0mself\u001b[0m\u001b[1;33m.\u001b[0m\u001b[0mconfig\u001b[0m\u001b[1;33m.\u001b[0m\u001b[0mMAX_SUMMARY_SENT\u001b[0m\u001b[1;33m\u001b[0m\u001b[1;33m\u001b[0m\u001b[0m\n\u001b[0;32m    360\u001b[0m \u001b[1;33m\u001b[0m\u001b[0m\n\u001b[1;32m--> 361\u001b[1;33m         \u001b[0msummary_sents\u001b[0m \u001b[1;33m=\u001b[0m \u001b[0mnlp\u001b[0m\u001b[1;33m.\u001b[0m\u001b[0msummarize\u001b[0m\u001b[1;33m(\u001b[0m\u001b[0mtitle\u001b[0m\u001b[1;33m=\u001b[0m\u001b[0mself\u001b[0m\u001b[1;33m.\u001b[0m\u001b[0mtitle\u001b[0m\u001b[1;33m,\u001b[0m \u001b[0mtext\u001b[0m\u001b[1;33m=\u001b[0m\u001b[0mself\u001b[0m\u001b[1;33m.\u001b[0m\u001b[0mtext\u001b[0m\u001b[1;33m,\u001b[0m \u001b[0mmax_sents\u001b[0m\u001b[1;33m=\u001b[0m\u001b[0mmax_sents\u001b[0m\u001b[1;33m)\u001b[0m\u001b[1;33m\u001b[0m\u001b[1;33m\u001b[0m\u001b[0m\n\u001b[0m\u001b[0;32m    362\u001b[0m         \u001b[0msummary\u001b[0m \u001b[1;33m=\u001b[0m \u001b[1;34m'\\n'\u001b[0m\u001b[1;33m.\u001b[0m\u001b[0mjoin\u001b[0m\u001b[1;33m(\u001b[0m\u001b[0msummary_sents\u001b[0m\u001b[1;33m)\u001b[0m\u001b[1;33m\u001b[0m\u001b[1;33m\u001b[0m\u001b[0m\n\u001b[0;32m    363\u001b[0m         \u001b[0mself\u001b[0m\u001b[1;33m.\u001b[0m\u001b[0mset_summary\u001b[0m\u001b[1;33m(\u001b[0m\u001b[0msummary\u001b[0m\u001b[1;33m)\u001b[0m\u001b[1;33m\u001b[0m\u001b[1;33m\u001b[0m\u001b[0m\n",
      "\u001b[1;32m~\\.conda\\envs\\rstudio-\\lib\\site-packages\\newspaper\\nlp.py\u001b[0m in \u001b[0;36msummarize\u001b[1;34m(url, title, text, max_sents)\u001b[0m\n\u001b[0;32m     43\u001b[0m \u001b[1;33m\u001b[0m\u001b[0m\n\u001b[0;32m     44\u001b[0m     \u001b[0msummaries\u001b[0m \u001b[1;33m=\u001b[0m \u001b[1;33m[\u001b[0m\u001b[1;33m]\u001b[0m\u001b[1;33m\u001b[0m\u001b[1;33m\u001b[0m\u001b[0m\n\u001b[1;32m---> 45\u001b[1;33m     \u001b[0msentences\u001b[0m \u001b[1;33m=\u001b[0m \u001b[0msplit_sentences\u001b[0m\u001b[1;33m(\u001b[0m\u001b[0mtext\u001b[0m\u001b[1;33m)\u001b[0m\u001b[1;33m\u001b[0m\u001b[1;33m\u001b[0m\u001b[0m\n\u001b[0m\u001b[0;32m     46\u001b[0m     \u001b[0mkeys\u001b[0m \u001b[1;33m=\u001b[0m \u001b[0mkeywords\u001b[0m\u001b[1;33m(\u001b[0m\u001b[0mtext\u001b[0m\u001b[1;33m)\u001b[0m\u001b[1;33m\u001b[0m\u001b[1;33m\u001b[0m\u001b[0m\n\u001b[0;32m     47\u001b[0m     \u001b[0mtitleWords\u001b[0m \u001b[1;33m=\u001b[0m \u001b[0msplit_words\u001b[0m\u001b[1;33m(\u001b[0m\u001b[0mtitle\u001b[0m\u001b[1;33m)\u001b[0m\u001b[1;33m\u001b[0m\u001b[1;33m\u001b[0m\u001b[0m\n",
      "\u001b[1;32m~\\.conda\\envs\\rstudio-\\lib\\site-packages\\newspaper\\nlp.py\u001b[0m in \u001b[0;36msplit_sentences\u001b[1;34m(text)\u001b[0m\n\u001b[0;32m    155\u001b[0m     \"\"\"\n\u001b[0;32m    156\u001b[0m     \u001b[1;32mimport\u001b[0m \u001b[0mnltk\u001b[0m\u001b[1;33m.\u001b[0m\u001b[0mdata\u001b[0m\u001b[1;33m\u001b[0m\u001b[1;33m\u001b[0m\u001b[0m\n\u001b[1;32m--> 157\u001b[1;33m     \u001b[0mtokenizer\u001b[0m \u001b[1;33m=\u001b[0m \u001b[0mnltk\u001b[0m\u001b[1;33m.\u001b[0m\u001b[0mdata\u001b[0m\u001b[1;33m.\u001b[0m\u001b[0mload\u001b[0m\u001b[1;33m(\u001b[0m\u001b[1;34m'tokenizers/punkt/english.pickle'\u001b[0m\u001b[1;33m)\u001b[0m\u001b[1;33m\u001b[0m\u001b[1;33m\u001b[0m\u001b[0m\n\u001b[0m\u001b[0;32m    158\u001b[0m \u001b[1;33m\u001b[0m\u001b[0m\n\u001b[0;32m    159\u001b[0m     \u001b[0msentences\u001b[0m \u001b[1;33m=\u001b[0m \u001b[0mtokenizer\u001b[0m\u001b[1;33m.\u001b[0m\u001b[0mtokenize\u001b[0m\u001b[1;33m(\u001b[0m\u001b[0mtext\u001b[0m\u001b[1;33m)\u001b[0m\u001b[1;33m\u001b[0m\u001b[1;33m\u001b[0m\u001b[0m\n",
      "\u001b[1;32m~\\.conda\\envs\\rstudio-\\lib\\site-packages\\nltk\\data.py\u001b[0m in \u001b[0;36mload\u001b[1;34m(resource_url, format, cache, verbose, logic_parser, fstruct_reader, encoding)\u001b[0m\n\u001b[0;32m    748\u001b[0m \u001b[1;33m\u001b[0m\u001b[0m\n\u001b[0;32m    749\u001b[0m     \u001b[1;31m# Load the resource.\u001b[0m\u001b[1;33m\u001b[0m\u001b[1;33m\u001b[0m\u001b[1;33m\u001b[0m\u001b[0m\n\u001b[1;32m--> 750\u001b[1;33m     \u001b[0mopened_resource\u001b[0m \u001b[1;33m=\u001b[0m \u001b[0m_open\u001b[0m\u001b[1;33m(\u001b[0m\u001b[0mresource_url\u001b[0m\u001b[1;33m)\u001b[0m\u001b[1;33m\u001b[0m\u001b[1;33m\u001b[0m\u001b[0m\n\u001b[0m\u001b[0;32m    751\u001b[0m \u001b[1;33m\u001b[0m\u001b[0m\n\u001b[0;32m    752\u001b[0m     \u001b[1;32mif\u001b[0m \u001b[0mformat\u001b[0m \u001b[1;33m==\u001b[0m \u001b[1;34m\"raw\"\u001b[0m\u001b[1;33m:\u001b[0m\u001b[1;33m\u001b[0m\u001b[1;33m\u001b[0m\u001b[0m\n",
      "\u001b[1;32m~\\.conda\\envs\\rstudio-\\lib\\site-packages\\nltk\\data.py\u001b[0m in \u001b[0;36m_open\u001b[1;34m(resource_url)\u001b[0m\n\u001b[0;32m    874\u001b[0m \u001b[1;33m\u001b[0m\u001b[0m\n\u001b[0;32m    875\u001b[0m     \u001b[1;32mif\u001b[0m \u001b[0mprotocol\u001b[0m \u001b[1;32mis\u001b[0m \u001b[1;32mNone\u001b[0m \u001b[1;32mor\u001b[0m \u001b[0mprotocol\u001b[0m\u001b[1;33m.\u001b[0m\u001b[0mlower\u001b[0m\u001b[1;33m(\u001b[0m\u001b[1;33m)\u001b[0m \u001b[1;33m==\u001b[0m \u001b[1;34m\"nltk\"\u001b[0m\u001b[1;33m:\u001b[0m\u001b[1;33m\u001b[0m\u001b[1;33m\u001b[0m\u001b[0m\n\u001b[1;32m--> 876\u001b[1;33m         \u001b[1;32mreturn\u001b[0m \u001b[0mfind\u001b[0m\u001b[1;33m(\u001b[0m\u001b[0mpath_\u001b[0m\u001b[1;33m,\u001b[0m \u001b[0mpath\u001b[0m \u001b[1;33m+\u001b[0m \u001b[1;33m[\u001b[0m\u001b[1;34m\"\"\u001b[0m\u001b[1;33m]\u001b[0m\u001b[1;33m)\u001b[0m\u001b[1;33m.\u001b[0m\u001b[0mopen\u001b[0m\u001b[1;33m(\u001b[0m\u001b[1;33m)\u001b[0m\u001b[1;33m\u001b[0m\u001b[1;33m\u001b[0m\u001b[0m\n\u001b[0m\u001b[0;32m    877\u001b[0m     \u001b[1;32melif\u001b[0m \u001b[0mprotocol\u001b[0m\u001b[1;33m.\u001b[0m\u001b[0mlower\u001b[0m\u001b[1;33m(\u001b[0m\u001b[1;33m)\u001b[0m \u001b[1;33m==\u001b[0m \u001b[1;34m\"file\"\u001b[0m\u001b[1;33m:\u001b[0m\u001b[1;33m\u001b[0m\u001b[1;33m\u001b[0m\u001b[0m\n\u001b[0;32m    878\u001b[0m         \u001b[1;31m# urllib might not use mode='rb', so handle this one ourselves:\u001b[0m\u001b[1;33m\u001b[0m\u001b[1;33m\u001b[0m\u001b[1;33m\u001b[0m\u001b[0m\n",
      "\u001b[1;32m~\\.conda\\envs\\rstudio-\\lib\\site-packages\\nltk\\data.py\u001b[0m in \u001b[0;36mfind\u001b[1;34m(resource_name, paths)\u001b[0m\n\u001b[0;32m    581\u001b[0m     \u001b[0msep\u001b[0m \u001b[1;33m=\u001b[0m \u001b[1;34m\"*\"\u001b[0m \u001b[1;33m*\u001b[0m \u001b[1;36m70\u001b[0m\u001b[1;33m\u001b[0m\u001b[1;33m\u001b[0m\u001b[0m\n\u001b[0;32m    582\u001b[0m     \u001b[0mresource_not_found\u001b[0m \u001b[1;33m=\u001b[0m \u001b[1;34mf\"\\n{sep}\\n{msg}\\n{sep}\\n\"\u001b[0m\u001b[1;33m\u001b[0m\u001b[1;33m\u001b[0m\u001b[0m\n\u001b[1;32m--> 583\u001b[1;33m     \u001b[1;32mraise\u001b[0m \u001b[0mLookupError\u001b[0m\u001b[1;33m(\u001b[0m\u001b[0mresource_not_found\u001b[0m\u001b[1;33m)\u001b[0m\u001b[1;33m\u001b[0m\u001b[1;33m\u001b[0m\u001b[0m\n\u001b[0m\u001b[0;32m    584\u001b[0m \u001b[1;33m\u001b[0m\u001b[0m\n\u001b[0;32m    585\u001b[0m \u001b[1;33m\u001b[0m\u001b[0m\n",
      "\u001b[1;31mLookupError\u001b[0m: \n**********************************************************************\n  Resource \u001b[93mpunkt\u001b[0m not found.\n  Please use the NLTK Downloader to obtain the resource:\n\n  \u001b[31m>>> import nltk\n  >>> nltk.download('punkt')\n  \u001b[0m\n  For more information see: https://www.nltk.org/data.html\n\n  Attempted to load \u001b[93mtokenizers/punkt/english.pickle\u001b[0m\n\n  Searched in:\n    - 'C:\\\\Users\\\\senah/nltk_data'\n    - 'C:\\\\Users\\\\senah\\\\.conda\\\\envs\\\\rstudio-\\\\nltk_data'\n    - 'C:\\\\Users\\\\senah\\\\.conda\\\\envs\\\\rstudio-\\\\share\\\\nltk_data'\n    - 'C:\\\\Users\\\\senah\\\\.conda\\\\envs\\\\rstudio-\\\\lib\\\\nltk_data'\n    - 'C:\\\\Users\\\\senah\\\\AppData\\\\Roaming\\\\nltk_data'\n    - 'C:\\\\nltk_data'\n    - 'D:\\\\nltk_data'\n    - 'E:\\\\nltk_data'\n    - ''\n**********************************************************************\n"
     ]
    }
   ],
   "source": [
    "article.nlp()"
   ]
  },
  {
   "cell_type": "code",
   "execution_count": 91,
   "id": "09c53f05",
   "metadata": {},
   "outputs": [
    {
     "data": {
      "text/plain": [
       "'Guerre en Ukraine : Kiev recadre Emmanuel Macron qui appelle à ne pas \"humilier\" la Russie'"
      ]
     },
     "execution_count": 91,
     "metadata": {},
     "output_type": "execute_result"
    }
   ],
   "source": [
    "article.title"
   ]
  },
  {
   "cell_type": "code",
   "execution_count": 92,
   "id": "7f6182fb",
   "metadata": {},
   "outputs": [
    {
     "data": {
      "text/plain": [
       "'Kiev a fustigé ce samedi l\\'appel du chef de l\\'Etat Emmanuel Macron à ne pas humilier la Russie et exclut de reprendre les négociations de paix tant que les forces russes n\\'auront pas été repoussées le plus loin possible.\\n\\nDans un entretien avec la presse quotidienne régionale, Emmanuel Macron, qui a maintenu le dialogue avec le président russe Vladimir Poutine depuis le début de l\\'invasion de l\\'Ukraine le 24 février, a proposé la médiation de la France dans le conflit et a mis en garde contre une humiliation de la Russie afin de préserver les canaux diplomatiques.\\n\\nA lire aussi : Guerre en Ukraine : Les Russes \"subissent d\\'énormes pertes\" à Sievierodonetsk... La situation ce samedi 4 juin\\n\\n\"Les appels à éviter d\\'humilier la Russie ne peuvent qu\\'humilier la France ou tout autre pays. Car c\\'est la Russie qui s\\'humilie\", a réagi sur Twitter le ministre ukrainien des Affaires étrangères, Dmitro Kouleba.\\n\\nCalls to avoid humiliation of Russia can only humiliate France and every other country that would call for it. Because it is Russia that humiliates itself. We all better focus on how to put Russia in its place. This will bring peace and save lives. — Dmytro Kuleba (@DmytroKuleba) June 4, 2022\\n\\n\"Nous ferions tous mieux de nous concentrer sur la façon de remettre la Russie à sa place. Cela apportera la paix et sauvera des vies\", a ajouté le chef de la diplomatie ukrainienne.\\n\\nA lire aussi : Guerre en Ukraine : L\\'avancée russe repoussée à Sievierodonetsk, le point sur les combats ce samedi 4 juin\\n\\nInterrogé sur cette offre de médiation, un conseiller de la présidence ukrainienne a répondu: \"Tant que nous n\\'aurons pas reçu toutes les armes, tant que nous n\\'aurons pas renforcé nos positions, tant que nous n\\'aurons pas repoussé (les forces russes, ndlr) le plus loin possible des frontières de l\\'Ukraine, il n\\'y aura pas lieu de négocier\".\\n\\nPour sa part, Emmanuel Macron a appelé à ne pas humilier la Russie \"pour que le jour où les combats cesseront, nous puissions bâtir un chemin de sortie par les voies diplomatiques\".\\n\\nPour le négociateur ukrainien David Arakhamia, l\\'Ukraine veut renforcer ses positions militaires sur le terrain grâce aux nouvelles livraisons d\\'armes occidentales avant de reprendre les négociations de paix avec la Russie.\\n\\nA lire aussi : Guerre en Ukraine : la Suède livre un système de défense dernier cri, le \"Robot 17\" bientôt déployé pour protéger les côtes de la mer Noire\\n\\n\"Nos forces armées sont prêtes à utiliser (les nouvelles armes, ndlr) (...) et je pense alors que nous pourrons entamer un nouveau cycle de négociations à partir de positions renforcées\", a déclaré David Arakhamia à la télévision ukrainienne.\\n\\nKiev a déclaré samedi que l\\'armée ukrainienne était parvenue à repousser l\\'avancée des troupes russes à Sievierodonetsk alors que les combats font rage autour de la ville industrielle où les soldats russes concentrent leur offensive pour prendre le contrôle du Donbass.'"
      ]
     },
     "execution_count": 92,
     "metadata": {},
     "output_type": "execute_result"
    }
   ],
   "source": [
    "article.text"
   ]
  },
  {
   "cell_type": "code",
   "execution_count": 93,
   "id": "c7a3e958",
   "metadata": {},
   "outputs": [
    {
     "name": "stdout",
     "output_type": "stream",
     "text": [
      "Kiev a fustigé ce samedi l'appel du chef de l'Etat Emmanuel Macron à ne pas humilier la Russie et exclut de reprendre les négociations de paix tant que les forces russes n'auront pas été repoussées le plus loin possible.\n",
      "\n",
      "Dans un entretien avec la presse quotidienne régionale, Emmanuel Macron, qui a maintenu le dialogue avec le président russe Vladimir Poutine depuis le début de l'invasion de l'Ukraine le 24 février, a proposé la médiation de la France dans le conflit et a mis en garde contre une humiliation de la Russie afin de préserver les canaux diplomatiques.\n",
      "\n",
      "A lire aussi : Guerre en Ukraine : Les Russes \"subissent d'énormes pertes\" à Sievierodonetsk... La situation ce samedi 4 juin\n",
      "\n",
      "\"Les appels à éviter d'humilier la Russie ne peuvent qu'humilier la France ou tout autre pays. Car c'est la Russie qui s'humilie\", a réagi sur Twitter le ministre ukrainien des Affaires étrangères, Dmitro Kouleba.\n",
      "\n",
      "Calls to avoid humiliation of Russia can only humiliate France and every other country that would call for it. Because it is Russia that humiliates itself. We all better focus on how to put Russia in its place. This will bring peace and save lives. — Dmytro Kuleba (@DmytroKuleba) June 4, 2022\n",
      "\n",
      "\"Nous ferions tous mieux de nous concentrer sur la façon de remettre la Russie à sa place. Cela apportera la paix et sauvera des vies\", a ajouté le chef de la diplomatie ukrainienne.\n",
      "\n",
      "A lire aussi : Guerre en Ukraine : L'avancée russe repoussée à Sievierodonetsk, le point sur les combats ce samedi 4 juin\n",
      "\n",
      "Interrogé sur cette offre de médiation, un conseiller de la présidence ukrainienne a répondu: \"Tant que nous n'aurons pas reçu toutes les armes, tant que nous n'aurons pas renforcé nos positions, tant que nous n'aurons pas repoussé (les forces russes, ndlr) le plus loin possible des frontières de l'Ukraine, il n'y aura pas lieu de négocier\".\n",
      "\n",
      "Pour sa part, Emmanuel Macron a appelé à ne pas humilier la Russie \"pour que le jour où les combats cesseront, nous puissions bâtir un chemin de sortie par les voies diplomatiques\".\n",
      "\n",
      "Pour le négociateur ukrainien David Arakhamia, l'Ukraine veut renforcer ses positions militaires sur le terrain grâce aux nouvelles livraisons d'armes occidentales avant de reprendre les négociations de paix avec la Russie.\n",
      "\n",
      "A lire aussi : Guerre en Ukraine : la Suède livre un système de défense dernier cri, le \"Robot 17\" bientôt déployé pour protéger les côtes de la mer Noire\n",
      "\n",
      "\"Nos forces armées sont prêtes à utiliser (les nouvelles armes, ndlr) (...) et je pense alors que nous pourrons entamer un nouveau cycle de négociations à partir de positions renforcées\", a déclaré David Arakhamia à la télévision ukrainienne.\n",
      "\n",
      "Kiev a déclaré samedi que l'armée ukrainienne était parvenue à repousser l'avancée des troupes russes à Sievierodonetsk alors que les combats font rage autour de la ville industrielle où les soldats russes concentrent leur offensive pour prendre le contrôle du Donbass.\n",
      "\n",
      "\n"
     ]
    }
   ],
   "source": [
    "print(article.text)\n",
    "print(\"\\n\")"
   ]
  },
  {
   "cell_type": "code",
   "execution_count": 63,
   "id": "2a535adf",
   "metadata": {},
   "outputs": [
    {
     "name": "stdout",
     "output_type": "stream",
     "text": [
      "\n",
      "\n",
      "\n"
     ]
    }
   ],
   "source": [
    "print(article.summary)\n",
    "print(\"\\n\")"
   ]
  }
 ],
 "metadata": {
  "kernelspec": {
   "display_name": "Python 3 (ipykernel)",
   "language": "python",
   "name": "python3"
  },
  "language_info": {
   "codemirror_mode": {
    "name": "ipython",
    "version": 3
   },
   "file_extension": ".py",
   "mimetype": "text/x-python",
   "name": "python",
   "nbconvert_exporter": "python",
   "pygments_lexer": "ipython3",
   "version": "3.7.1"
  }
 },
 "nbformat": 4,
 "nbformat_minor": 5
}
